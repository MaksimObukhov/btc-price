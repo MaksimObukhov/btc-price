{
 "cells": [
  {
   "cell_type": "code",
   "execution_count": 207,
   "outputs": [],
   "source": [
    "%reset"
   ],
   "metadata": {
    "collapsed": false,
    "ExecuteTime": {
     "end_time": "2024-01-14T12:54:38.342994Z",
     "start_time": "2024-01-14T12:54:37.207966Z"
    }
   },
   "id": "791f870681527ffd"
  },
  {
   "cell_type": "code",
   "execution_count": 208,
   "outputs": [],
   "source": [
    "import pandas as pd\n",
    "import numpy as np"
   ],
   "metadata": {
    "collapsed": false,
    "ExecuteTime": {
     "end_time": "2024-01-14T12:54:38.345324Z",
     "start_time": "2024-01-14T12:54:38.343623Z"
    }
   },
   "id": "initial_id"
  },
  {
   "cell_type": "code",
   "execution_count": 209,
   "outputs": [],
   "source": [
    "df_btc = pd.read_csv('data/btc-usd-max.csv')\n",
    "df_ir = pd.read_csv('data/10year_real_interest_rate.csv')\n",
    "df_gdp = pd.read_csv('data/us_gdp_t.txt')\n",
    "df_inflation = pd.read_csv('data/us_inflation_rate.txt')"
   ],
   "metadata": {
    "collapsed": false,
    "ExecuteTime": {
     "end_time": "2024-01-14T12:54:38.350928Z",
     "start_time": "2024-01-14T12:54:38.345906Z"
    }
   },
   "id": "326fe7d6a2116a4"
  },
  {
   "cell_type": "markdown",
   "source": [
    "## Data preprocessing"
   ],
   "metadata": {
    "collapsed": false
   },
   "id": "2fad7062834cd53f"
  },
  {
   "cell_type": "code",
   "execution_count": 210,
   "outputs": [],
   "source": [
    "df_btc = df_btc[(df_btc['snapped_at'] >= '2019-12-31') & (df_btc['snapped_at'] <= '2024-01-01')]\n",
    "df_ir = df_ir[(df_ir['DATE'] >= '2020-01-01') & (df_ir['DATE'] <= '2024-01-01')]\n",
    "df_gdp = df_gdp[df_gdp['Date'] >= '2019-12-31']\n",
    "df_inflation = df_inflation[df_inflation['Date'] >= '2019-12-31']"
   ],
   "metadata": {
    "collapsed": false,
    "ExecuteTime": {
     "end_time": "2024-01-14T12:54:38.361129Z",
     "start_time": "2024-01-14T12:54:38.352580Z"
    }
   },
   "id": "58a00e076ecd9b9c"
  },
  {
   "cell_type": "code",
   "execution_count": 211,
   "outputs": [
    {
     "data": {
      "text/plain": "date               datetime64[ns]\nbtc_price                 float64\nbtc_market_cap            float64\nbtc_volume_24hr           float64\ndtype: object"
     },
     "execution_count": 211,
     "metadata": {},
     "output_type": "execute_result"
    }
   ],
   "source": [
    "df_btc['snapped_at'] = pd.to_datetime(df_btc['snapped_at']).dt.tz_localize(None)\n",
    "df_btc.columns = ['date', 'btc_price', 'btc_market_cap', 'btc_volume_24hr']\n",
    "df_btc.dtypes"
   ],
   "metadata": {
    "collapsed": false,
    "ExecuteTime": {
     "end_time": "2024-01-14T12:54:38.366875Z",
     "start_time": "2024-01-14T12:54:38.364847Z"
    }
   },
   "id": "b0307041e0098002"
  },
  {
   "cell_type": "code",
   "execution_count": 212,
   "outputs": [],
   "source": [
    "df_btc['btc_supply'] = df_btc['btc_market_cap'] / df_btc['btc_price']\n",
    "df_btc.drop(['btc_market_cap'], axis=1, inplace=True)"
   ],
   "metadata": {
    "collapsed": false,
    "ExecuteTime": {
     "end_time": "2024-01-14T12:54:38.378349Z",
     "start_time": "2024-01-14T12:54:38.367831Z"
    }
   },
   "id": "ef859814eca809"
  },
  {
   "cell_type": "code",
   "execution_count": 213,
   "outputs": [
    {
     "data": {
      "text/plain": "date                             datetime64[ns]\nus_real_interest_rate_percent           float64\ndtype: object"
     },
     "execution_count": 213,
     "metadata": {},
     "output_type": "execute_result"
    }
   ],
   "source": [
    "df_ir['DATE'] = pd.to_datetime(df_ir['DATE'])\n",
    "df_ir.columns = ['date', 'us_real_interest_rate_percent']\n",
    "df_ir.dtypes"
   ],
   "metadata": {
    "collapsed": false,
    "ExecuteTime": {
     "end_time": "2024-01-14T12:54:38.378677Z",
     "start_time": "2024-01-14T12:54:38.370417Z"
    }
   },
   "id": "3937d8c1b232d80e"
  },
  {
   "cell_type": "code",
   "execution_count": 214,
   "outputs": [
    {
     "data": {
      "text/plain": "date          datetime64[ns]\nus_gdp_usd           float64\ndtype: object"
     },
     "execution_count": 214,
     "metadata": {},
     "output_type": "execute_result"
    }
   ],
   "source": [
    "df_gdp['Date'] = pd.to_datetime(df_gdp['Date'])\n",
    "df_gdp['Value'] = df_gdp['Value'].str.rstrip('T').astype(float)\n",
    "df_gdp['Value'] = df_gdp['Value'] * 1e12\n",
    "df_gdp.columns = ['date', 'us_gdp_usd']\n",
    "df_gdp.dtypes"
   ],
   "metadata": {
    "collapsed": false,
    "ExecuteTime": {
     "end_time": "2024-01-14T12:54:38.378839Z",
     "start_time": "2024-01-14T12:54:38.373714Z"
    }
   },
   "id": "e95ac2d946870cc5"
  },
  {
   "cell_type": "code",
   "execution_count": 215,
   "outputs": [
    {
     "data": {
      "text/plain": "date                         datetime64[ns]\nus_inflation_rate_percent           float64\ndtype: object"
     },
     "execution_count": 215,
     "metadata": {},
     "output_type": "execute_result"
    }
   ],
   "source": [
    "df_inflation['Date'] = pd.to_datetime(df_inflation['Date'])\n",
    "df_inflation.columns = ['date', 'us_inflation_rate_percent']\n",
    "df_inflation.dtypes"
   ],
   "metadata": {
    "collapsed": false,
    "ExecuteTime": {
     "end_time": "2024-01-14T12:54:38.378932Z",
     "start_time": "2024-01-14T12:54:38.376618Z"
    }
   },
   "id": "524482422ca37624"
  },
  {
   "cell_type": "markdown",
   "source": [
    "## Merge dataframes"
   ],
   "metadata": {
    "collapsed": false
   },
   "id": "29db6b3790e485a7"
  },
  {
   "cell_type": "code",
   "execution_count": 216,
   "outputs": [
    {
     "data": {
      "text/plain": "        date     btc_price  btc_volume_24hr    btc_supply\n0 2020-01-05   7207.485803     2.226211e+10  1.814566e+07\n1 2020-01-12   7900.463817     3.163291e+10  1.812270e+07\n2 2020-01-19   8633.594520     3.913943e+10  1.815467e+07\n3 2020-01-26   8558.372633     2.991802e+10  1.817600e+07\n4 2020-02-02   9179.121879     4.520534e+10  1.818911e+07\n5 2020-02-09   9550.608454     6.358609e+10  1.820205e+07\n6 2020-02-16  10147.125407     5.710329e+10  1.821032e+07\n7 2020-02-23   9765.613191     4.569227e+10  1.822225e+07\n8 2020-03-01   9116.596085     4.041274e+10  1.823555e+07\n9 2020-03-08   8866.565895     4.536157e+10  1.824718e+07",
      "text/html": "<div>\n<style scoped>\n    .dataframe tbody tr th:only-of-type {\n        vertical-align: middle;\n    }\n\n    .dataframe tbody tr th {\n        vertical-align: top;\n    }\n\n    .dataframe thead th {\n        text-align: right;\n    }\n</style>\n<table border=\"1\" class=\"dataframe\">\n  <thead>\n    <tr style=\"text-align: right;\">\n      <th></th>\n      <th>date</th>\n      <th>btc_price</th>\n      <th>btc_volume_24hr</th>\n      <th>btc_supply</th>\n    </tr>\n  </thead>\n  <tbody>\n    <tr>\n      <th>0</th>\n      <td>2020-01-05</td>\n      <td>7207.485803</td>\n      <td>2.226211e+10</td>\n      <td>1.814566e+07</td>\n    </tr>\n    <tr>\n      <th>1</th>\n      <td>2020-01-12</td>\n      <td>7900.463817</td>\n      <td>3.163291e+10</td>\n      <td>1.812270e+07</td>\n    </tr>\n    <tr>\n      <th>2</th>\n      <td>2020-01-19</td>\n      <td>8633.594520</td>\n      <td>3.913943e+10</td>\n      <td>1.815467e+07</td>\n    </tr>\n    <tr>\n      <th>3</th>\n      <td>2020-01-26</td>\n      <td>8558.372633</td>\n      <td>2.991802e+10</td>\n      <td>1.817600e+07</td>\n    </tr>\n    <tr>\n      <th>4</th>\n      <td>2020-02-02</td>\n      <td>9179.121879</td>\n      <td>4.520534e+10</td>\n      <td>1.818911e+07</td>\n    </tr>\n    <tr>\n      <th>5</th>\n      <td>2020-02-09</td>\n      <td>9550.608454</td>\n      <td>6.358609e+10</td>\n      <td>1.820205e+07</td>\n    </tr>\n    <tr>\n      <th>6</th>\n      <td>2020-02-16</td>\n      <td>10147.125407</td>\n      <td>5.710329e+10</td>\n      <td>1.821032e+07</td>\n    </tr>\n    <tr>\n      <th>7</th>\n      <td>2020-02-23</td>\n      <td>9765.613191</td>\n      <td>4.569227e+10</td>\n      <td>1.822225e+07</td>\n    </tr>\n    <tr>\n      <th>8</th>\n      <td>2020-03-01</td>\n      <td>9116.596085</td>\n      <td>4.041274e+10</td>\n      <td>1.823555e+07</td>\n    </tr>\n    <tr>\n      <th>9</th>\n      <td>2020-03-08</td>\n      <td>8866.565895</td>\n      <td>4.536157e+10</td>\n      <td>1.824718e+07</td>\n    </tr>\n  </tbody>\n</table>\n</div>"
     },
     "execution_count": 216,
     "metadata": {},
     "output_type": "execute_result"
    }
   ],
   "source": [
    "df_btc_weekly = df_btc.set_index('date')\n",
    "df_btc_weekly = df_btc_weekly.resample('W').mean()\n",
    "df_btc_weekly.reset_index(inplace=True)\n",
    "df_btc_weekly.head(10)"
   ],
   "metadata": {
    "collapsed": false,
    "ExecuteTime": {
     "end_time": "2024-01-14T12:54:38.394443Z",
     "start_time": "2024-01-14T12:54:38.382173Z"
    }
   },
   "id": "d8a98179064be7d8"
  },
  {
   "cell_type": "code",
   "execution_count": 217,
   "outputs": [
    {
     "data": {
      "text/plain": "        date     btc_price  btc_volume_24hr    btc_supply  \\\n0 2020-01-05   7207.485803     2.226211e+10  1.814566e+07   \n1 2020-01-12   7900.463817     3.163291e+10  1.812270e+07   \n2 2020-01-19   8633.594520     3.913943e+10  1.815467e+07   \n3 2020-01-26   8558.372633     2.991802e+10  1.817600e+07   \n4 2020-02-02   9179.121879     4.520534e+10  1.818911e+07   \n5 2020-02-09   9550.608454     6.358609e+10  1.820205e+07   \n6 2020-02-16  10147.125407     5.710329e+10  1.821032e+07   \n7 2020-02-23   9765.613191     4.569227e+10  1.822225e+07   \n8 2020-03-01   9116.596085     4.041274e+10  1.823555e+07   \n9 2020-03-08   8866.565895     4.536157e+10  1.824718e+07   \n\n   us_real_interest_rate_percent    us_gdp_usd  us_inflation_rate_percent  \n0                       0.505096  2.202000e+13                       2.49  \n1                       0.505096  2.202000e+13                       2.49  \n2                       0.505096  2.202000e+13                       2.49  \n3                       0.505096  2.202000e+13                       2.49  \n4                       0.315986  2.212000e+13                       2.33  \n5                       0.315986  2.212000e+13                       2.33  \n6                       0.315986  2.212000e+13                       2.33  \n7                       0.315986  2.212000e+13                       2.33  \n8                      -0.127837  2.098000e+13                       1.54  \n9                      -0.127837  2.098000e+13                       1.54  ",
      "text/html": "<div>\n<style scoped>\n    .dataframe tbody tr th:only-of-type {\n        vertical-align: middle;\n    }\n\n    .dataframe tbody tr th {\n        vertical-align: top;\n    }\n\n    .dataframe thead th {\n        text-align: right;\n    }\n</style>\n<table border=\"1\" class=\"dataframe\">\n  <thead>\n    <tr style=\"text-align: right;\">\n      <th></th>\n      <th>date</th>\n      <th>btc_price</th>\n      <th>btc_volume_24hr</th>\n      <th>btc_supply</th>\n      <th>us_real_interest_rate_percent</th>\n      <th>us_gdp_usd</th>\n      <th>us_inflation_rate_percent</th>\n    </tr>\n  </thead>\n  <tbody>\n    <tr>\n      <th>0</th>\n      <td>2020-01-05</td>\n      <td>7207.485803</td>\n      <td>2.226211e+10</td>\n      <td>1.814566e+07</td>\n      <td>0.505096</td>\n      <td>2.202000e+13</td>\n      <td>2.49</td>\n    </tr>\n    <tr>\n      <th>1</th>\n      <td>2020-01-12</td>\n      <td>7900.463817</td>\n      <td>3.163291e+10</td>\n      <td>1.812270e+07</td>\n      <td>0.505096</td>\n      <td>2.202000e+13</td>\n      <td>2.49</td>\n    </tr>\n    <tr>\n      <th>2</th>\n      <td>2020-01-19</td>\n      <td>8633.594520</td>\n      <td>3.913943e+10</td>\n      <td>1.815467e+07</td>\n      <td>0.505096</td>\n      <td>2.202000e+13</td>\n      <td>2.49</td>\n    </tr>\n    <tr>\n      <th>3</th>\n      <td>2020-01-26</td>\n      <td>8558.372633</td>\n      <td>2.991802e+10</td>\n      <td>1.817600e+07</td>\n      <td>0.505096</td>\n      <td>2.202000e+13</td>\n      <td>2.49</td>\n    </tr>\n    <tr>\n      <th>4</th>\n      <td>2020-02-02</td>\n      <td>9179.121879</td>\n      <td>4.520534e+10</td>\n      <td>1.818911e+07</td>\n      <td>0.315986</td>\n      <td>2.212000e+13</td>\n      <td>2.33</td>\n    </tr>\n    <tr>\n      <th>5</th>\n      <td>2020-02-09</td>\n      <td>9550.608454</td>\n      <td>6.358609e+10</td>\n      <td>1.820205e+07</td>\n      <td>0.315986</td>\n      <td>2.212000e+13</td>\n      <td>2.33</td>\n    </tr>\n    <tr>\n      <th>6</th>\n      <td>2020-02-16</td>\n      <td>10147.125407</td>\n      <td>5.710329e+10</td>\n      <td>1.821032e+07</td>\n      <td>0.315986</td>\n      <td>2.212000e+13</td>\n      <td>2.33</td>\n    </tr>\n    <tr>\n      <th>7</th>\n      <td>2020-02-23</td>\n      <td>9765.613191</td>\n      <td>4.569227e+10</td>\n      <td>1.822225e+07</td>\n      <td>0.315986</td>\n      <td>2.212000e+13</td>\n      <td>2.33</td>\n    </tr>\n    <tr>\n      <th>8</th>\n      <td>2020-03-01</td>\n      <td>9116.596085</td>\n      <td>4.041274e+10</td>\n      <td>1.823555e+07</td>\n      <td>-0.127837</td>\n      <td>2.098000e+13</td>\n      <td>1.54</td>\n    </tr>\n    <tr>\n      <th>9</th>\n      <td>2020-03-08</td>\n      <td>8866.565895</td>\n      <td>4.536157e+10</td>\n      <td>1.824718e+07</td>\n      <td>-0.127837</td>\n      <td>2.098000e+13</td>\n      <td>1.54</td>\n    </tr>\n  </tbody>\n</table>\n</div>"
     },
     "execution_count": 217,
     "metadata": {},
     "output_type": "execute_result"
    }
   ],
   "source": [
    "df_btc_weekly['year_month'] = df_btc_weekly['date'].dt.to_period('M')\n",
    "df_ir['year_month'] = df_ir['date'].dt.to_period('M')\n",
    "df_gdp['year_month'] = df_gdp['date'].dt.to_period('M')\n",
    "df_inflation['year_month'] = df_inflation['date'].dt.to_period('M')\n",
    "\n",
    "df_week = pd.merge(df_btc_weekly, df_ir.drop(['date'], axis=1), on='year_month', how='left')\n",
    "df_week = pd.merge(df_week, df_gdp.drop(['date'], axis=1), on='year_month', how='left')\n",
    "df_week = pd.merge(df_week, df_inflation.drop(['date'], axis=1), on='year_month', how='left')\n",
    "df_week.drop(['year_month'], axis=1, inplace=True)\n",
    "df_week.reset_index()\n",
    "df_week.head(10)"
   ],
   "metadata": {
    "collapsed": false,
    "ExecuteTime": {
     "end_time": "2024-01-14T12:54:38.400783Z",
     "start_time": "2024-01-14T12:54:38.388523Z"
    }
   },
   "id": "2c78cc347bf2bad4"
  },
  {
   "cell_type": "code",
   "execution_count": 217,
   "outputs": [],
   "source": [],
   "metadata": {
    "collapsed": false,
    "ExecuteTime": {
     "end_time": "2024-01-14T12:54:38.400976Z",
     "start_time": "2024-01-14T12:54:38.394161Z"
    }
   },
   "id": "a8415838464a385b"
  }
 ],
 "metadata": {
  "kernelspec": {
   "display_name": "Python 3",
   "language": "python",
   "name": "python3"
  },
  "language_info": {
   "codemirror_mode": {
    "name": "ipython",
    "version": 2
   },
   "file_extension": ".py",
   "mimetype": "text/x-python",
   "name": "python",
   "nbconvert_exporter": "python",
   "pygments_lexer": "ipython2",
   "version": "2.7.6"
  }
 },
 "nbformat": 4,
 "nbformat_minor": 5
}
